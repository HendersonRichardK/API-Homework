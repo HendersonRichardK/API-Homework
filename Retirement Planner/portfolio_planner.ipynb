{
 "cells": [
  {
   "cell_type": "markdown",
   "metadata": {},
   "source": [
    "# Retirement Planner\n",
    "\n",
    "---\n",
    "\n",
    "## Environment Setup"
   ]
  },
  {
   "cell_type": "code",
   "execution_count": 1,
   "metadata": {},
   "outputs": [],
   "source": [
    "# Import libraries and dependencies\n",
    "import numpy as np\n",
    "import pandas as pd\n",
    "import os\n",
    "from datetime import datetime, timedelta\n",
    "import matplotlib.pyplot as plt\n",
    "import alpaca_trade_api as tradeapi\n",
    "%matplotlib inline"
   ]
  },
  {
   "cell_type": "code",
   "execution_count": 2,
   "metadata": {},
   "outputs": [],
   "source": [
    "# Set the random seed for resutls reproducibility (for testing purposes only)\n",
    "np.random.seed(42)"
   ]
  },
  {
   "cell_type": "markdown",
   "metadata": {},
   "source": [
    "---\n",
    "\n",
    "## Portfolio Planner\n",
    "\n",
    "In this activity, you will use the Alpaca API to grab historical data for a `60/40` portfolio using `SPY` to represent the stock portion and `AGG` to represent the bonds."
   ]
  },
  {
   "cell_type": "code",
   "execution_count": 3,
   "metadata": {},
   "outputs": [],
   "source": [
    "# Load .env enviroment variables\n",
    "from dotenv import load_dotenv\n",
    "load_dotenv()\n",
    "\n",
    "# Set Alpaca API key and secret\n",
    "alpaca_api_key = os.getenv(\"ALPACA_API_KEY\")\n",
    "alpaca_secret_key = os.getenv(\"ALPACA_SECRET_KEY\")\n",
    "\n",
    "# Create the Alpaca API object\n",
    "api = tradeapi.REST(\n",
    "    alpaca_api_key,\n",
    "    alpaca_secret_key,\n",
    "    api_version=\"v2\")"
   ]
  },
  {
   "cell_type": "markdown",
   "metadata": {},
   "source": [
    "# Data Collection\n",
    "\n",
    "In this step, you will need to use the Alpaca api to fetch closing prices for the `SPY` and `AGG` tickers. Save the results as a pandas DataFrame"
   ]
  },
  {
   "cell_type": "code",
   "execution_count": 4,
   "metadata": {},
   "outputs": [],
   "source": [
    "# Subset your tickers, then pull returns data:\n",
    "# Set the ticker\n",
    "ticker = [\"SPY\", \"AGG\"]\n",
    "\n",
    "# Set timeframe to '1D'\n",
    "timeframe = \"1D\"\n",
    "\n",
    "# Set start and end datetimes of 1 year, between now and 365 days ago.\n",
    "start_date = pd.Timestamp('2019-01-01', tz='America/New_York').isoformat()\n",
    "end_date = pd.Timestamp('2019-12-31', tz='America/New_York').isoformat()\n",
    "\n",
    "# Get 1 year's worth of historical data for SPY and AGG\n",
    "df = api.get_barset(\n",
    "    ticker,\n",
    "    timeframe,\n",
    "    limit=None,\n",
    "    start=start_date,\n",
    "    end=end_date,\n",
    "    after=None,\n",
    "    until=None,\n",
    ").df\n",
    "\n",
    "# Drop unnecessary columns\n",
    "df = df.drop(\n",
    "    columns=['open', 'high', 'low', 'volume'],\n",
    "    level=1\n",
    ")"
   ]
  },
  {
   "cell_type": "code",
   "execution_count": 5,
   "metadata": {},
   "outputs": [
    {
     "data": {
      "text/html": [
       "<div>\n",
       "<style scoped>\n",
       "    .dataframe tbody tr th:only-of-type {\n",
       "        vertical-align: middle;\n",
       "    }\n",
       "\n",
       "    .dataframe tbody tr th {\n",
       "        vertical-align: top;\n",
       "    }\n",
       "\n",
       "    .dataframe thead tr th {\n",
       "        text-align: left;\n",
       "    }\n",
       "\n",
       "    .dataframe thead tr:last-of-type th {\n",
       "        text-align: right;\n",
       "    }\n",
       "</style>\n",
       "<table border=\"1\" class=\"dataframe\">\n",
       "  <thead>\n",
       "    <tr>\n",
       "      <th></th>\n",
       "      <th>AGG</th>\n",
       "      <th>SPY</th>\n",
       "    </tr>\n",
       "    <tr>\n",
       "      <th></th>\n",
       "      <th>close</th>\n",
       "      <th>close</th>\n",
       "    </tr>\n",
       "    <tr>\n",
       "      <th>time</th>\n",
       "      <th></th>\n",
       "      <th></th>\n",
       "    </tr>\n",
       "  </thead>\n",
       "  <tbody>\n",
       "    <tr>\n",
       "      <th>2019-01-02 00:00:00-05:00</th>\n",
       "      <td>106.585</td>\n",
       "      <td>249.89</td>\n",
       "    </tr>\n",
       "    <tr>\n",
       "      <th>2019-01-03 00:00:00-05:00</th>\n",
       "      <td>107.020</td>\n",
       "      <td>244.46</td>\n",
       "    </tr>\n",
       "    <tr>\n",
       "      <th>2019-01-04 00:00:00-05:00</th>\n",
       "      <td>106.695</td>\n",
       "      <td>252.41</td>\n",
       "    </tr>\n",
       "    <tr>\n",
       "      <th>2019-01-07 00:00:00-05:00</th>\n",
       "      <td>106.470</td>\n",
       "      <td>254.40</td>\n",
       "    </tr>\n",
       "    <tr>\n",
       "      <th>2019-01-08 00:00:00-05:00</th>\n",
       "      <td>106.420</td>\n",
       "      <td>256.65</td>\n",
       "    </tr>\n",
       "  </tbody>\n",
       "</table>\n",
       "</div>"
      ],
      "text/plain": [
       "                               AGG     SPY\n",
       "                             close   close\n",
       "time                                      \n",
       "2019-01-02 00:00:00-05:00  106.585  249.89\n",
       "2019-01-03 00:00:00-05:00  107.020  244.46\n",
       "2019-01-04 00:00:00-05:00  106.695  252.41\n",
       "2019-01-07 00:00:00-05:00  106.470  254.40\n",
       "2019-01-08 00:00:00-05:00  106.420  256.65"
      ]
     },
     "execution_count": 5,
     "metadata": {},
     "output_type": "execute_result"
    }
   ],
   "source": [
    "# Display sample data\n",
    "df.head()"
   ]
  },
  {
   "cell_type": "markdown",
   "metadata": {},
   "source": [
    "---\n",
    "\n",
    "## Monte Carlo Simulation\n",
    "\n",
    "In this step, you will run Monte Carlo Simulations for your portfolio to model portfolio performance at different retirement ages. \n",
    "\n",
    "Complete the following steps:\n",
    "\n",
    "1. Calculate the daily returns for the SPY and AGG closing prices.\n",
    "\n",
    "2. Calculate volatility for both the SPY and AGG closing prices.\n",
    "\n",
    "3. Find the last day's closing price for both stocks and save those as variables\n",
    "\n",
    "4. Run a Monte Carlo Simulation of at least `100` iterations and generate at least `30` years of closing prices\n",
    "\n",
    "**Hint:** There are `252` trading days per year, so the number of records to generate for each Monte Carlo run will be `252 days * 30 years`."
   ]
  },
  {
   "cell_type": "code",
   "execution_count": 6,
   "metadata": {},
   "outputs": [
    {
     "data": {
      "text/plain": [
       "0.00021277231473764173"
      ]
     },
     "execution_count": 6,
     "metadata": {},
     "output_type": "execute_result"
    }
   ],
   "source": [
    "# Calculate the daily roi for the stocks\n",
    "\n",
    "# Display sample data\n",
    "daily_returns=df.pct_change()\n",
    "\n",
    "avg_daily_spy = daily_returns.mean()['SPY']['close']\n",
    "avg_daily_agg = daily_returns.mean()['AGG']['close']\n",
    "avg_daily_agg"
   ]
  },
  {
   "cell_type": "code",
   "execution_count": 7,
   "metadata": {},
   "outputs": [
    {
     "data": {
      "text/plain": [
       "0.002089826211646555"
      ]
     },
     "execution_count": 7,
     "metadata": {},
     "output_type": "execute_result"
    }
   ],
   "source": [
    "# Compute daily volatility\n",
    "\n",
    "# Calculate volatility\n",
    "\n",
    "\n",
    "\n",
    "std_spy = daily_returns.std()['SPY']['close']\n",
    "std_agg = daily_returns.std()['AGG']['close']\n",
    "std_agg"
   ]
  },
  {
   "cell_type": "code",
   "execution_count": 8,
   "metadata": {},
   "outputs": [
    {
     "data": {
      "text/html": [
       "<div>\n",
       "<style scoped>\n",
       "    .dataframe tbody tr th:only-of-type {\n",
       "        vertical-align: middle;\n",
       "    }\n",
       "\n",
       "    .dataframe tbody tr th {\n",
       "        vertical-align: top;\n",
       "    }\n",
       "\n",
       "    .dataframe thead tr th {\n",
       "        text-align: left;\n",
       "    }\n",
       "\n",
       "    .dataframe thead tr:last-of-type th {\n",
       "        text-align: right;\n",
       "    }\n",
       "</style>\n",
       "<table border=\"1\" class=\"dataframe\">\n",
       "  <thead>\n",
       "    <tr>\n",
       "      <th></th>\n",
       "      <th>AGG</th>\n",
       "      <th>SPY</th>\n",
       "    </tr>\n",
       "    <tr>\n",
       "      <th></th>\n",
       "      <th>close</th>\n",
       "      <th>close</th>\n",
       "    </tr>\n",
       "    <tr>\n",
       "      <th>time</th>\n",
       "      <th></th>\n",
       "      <th></th>\n",
       "    </tr>\n",
       "  </thead>\n",
       "  <tbody>\n",
       "    <tr>\n",
       "      <th>2019-12-31 00:00:00-05:00</th>\n",
       "      <td>112.37</td>\n",
       "      <td>321.92</td>\n",
       "    </tr>\n",
       "  </tbody>\n",
       "</table>\n",
       "</div>"
      ],
      "text/plain": [
       "                              AGG     SPY\n",
       "                            close   close\n",
       "time                                     \n",
       "2019-12-31 00:00:00-05:00  112.37  321.92"
      ]
     },
     "execution_count": 8,
     "metadata": {},
     "output_type": "execute_result"
    }
   ],
   "source": [
    "# Save the last day's closing price\n",
    "last_day=df.tail(1)\n",
    "last_day"
   ]
  },
  {
   "cell_type": "code",
   "execution_count": 9,
   "metadata": {},
   "outputs": [],
   "source": [
    "# Setup the Monte Carlo Parameters\n",
    "number_simulations = 500\n",
    "number_records = 252 * 30\n",
    "monte_carlo = pd.DataFrame()"
   ]
  },
  {
   "cell_type": "code",
   "execution_count": 10,
   "metadata": {},
   "outputs": [
    {
     "data": {
      "text/html": [
       "<div>\n",
       "<style scoped>\n",
       "    .dataframe tbody tr th:only-of-type {\n",
       "        vertical-align: middle;\n",
       "    }\n",
       "\n",
       "    .dataframe tbody tr th {\n",
       "        vertical-align: top;\n",
       "    }\n",
       "\n",
       "    .dataframe thead th {\n",
       "        text-align: right;\n",
       "    }\n",
       "</style>\n",
       "<table border=\"1\" class=\"dataframe\">\n",
       "  <thead>\n",
       "    <tr style=\"text-align: right;\">\n",
       "      <th></th>\n",
       "      <th>0</th>\n",
       "      <th>1</th>\n",
       "      <th>2</th>\n",
       "      <th>3</th>\n",
       "      <th>4</th>\n",
       "      <th>5</th>\n",
       "      <th>6</th>\n",
       "      <th>7</th>\n",
       "      <th>8</th>\n",
       "      <th>9</th>\n",
       "      <th>...</th>\n",
       "      <th>490</th>\n",
       "      <th>491</th>\n",
       "      <th>492</th>\n",
       "      <th>493</th>\n",
       "      <th>494</th>\n",
       "      <th>495</th>\n",
       "      <th>496</th>\n",
       "      <th>497</th>\n",
       "      <th>498</th>\n",
       "      <th>499</th>\n",
       "    </tr>\n",
       "  </thead>\n",
       "  <tbody>\n",
       "    <tr>\n",
       "      <th>7556</th>\n",
       "      <td>226.640601</td>\n",
       "      <td>183.013645</td>\n",
       "      <td>248.439395</td>\n",
       "      <td>266.549906</td>\n",
       "      <td>243.256943</td>\n",
       "      <td>193.970623</td>\n",
       "      <td>232.356573</td>\n",
       "      <td>365.582582</td>\n",
       "      <td>250.332474</td>\n",
       "      <td>270.407568</td>\n",
       "      <td>...</td>\n",
       "      <td>76.552297</td>\n",
       "      <td>264.237617</td>\n",
       "      <td>155.411639</td>\n",
       "      <td>244.125466</td>\n",
       "      <td>298.916293</td>\n",
       "      <td>336.863337</td>\n",
       "      <td>96.790248</td>\n",
       "      <td>217.572828</td>\n",
       "      <td>391.889121</td>\n",
       "      <td>101.934826</td>\n",
       "    </tr>\n",
       "    <tr>\n",
       "      <th>7557</th>\n",
       "      <td>226.358501</td>\n",
       "      <td>183.671480</td>\n",
       "      <td>249.086176</td>\n",
       "      <td>266.398180</td>\n",
       "      <td>241.567502</td>\n",
       "      <td>193.870304</td>\n",
       "      <td>231.197939</td>\n",
       "      <td>367.786650</td>\n",
       "      <td>249.053947</td>\n",
       "      <td>270.084122</td>\n",
       "      <td>...</td>\n",
       "      <td>75.939959</td>\n",
       "      <td>264.141594</td>\n",
       "      <td>155.158220</td>\n",
       "      <td>244.966009</td>\n",
       "      <td>298.846483</td>\n",
       "      <td>338.975713</td>\n",
       "      <td>97.712656</td>\n",
       "      <td>217.670540</td>\n",
       "      <td>395.634852</td>\n",
       "      <td>101.375060</td>\n",
       "    </tr>\n",
       "    <tr>\n",
       "      <th>7558</th>\n",
       "      <td>225.409380</td>\n",
       "      <td>183.751517</td>\n",
       "      <td>251.311869</td>\n",
       "      <td>266.615601</td>\n",
       "      <td>242.283891</td>\n",
       "      <td>194.152841</td>\n",
       "      <td>231.776757</td>\n",
       "      <td>368.377758</td>\n",
       "      <td>250.766427</td>\n",
       "      <td>269.200277</td>\n",
       "      <td>...</td>\n",
       "      <td>75.895997</td>\n",
       "      <td>265.537201</td>\n",
       "      <td>155.273325</td>\n",
       "      <td>245.868703</td>\n",
       "      <td>300.599696</td>\n",
       "      <td>337.955915</td>\n",
       "      <td>97.650009</td>\n",
       "      <td>216.306908</td>\n",
       "      <td>398.194448</td>\n",
       "      <td>100.915272</td>\n",
       "    </tr>\n",
       "    <tr>\n",
       "      <th>7559</th>\n",
       "      <td>225.106471</td>\n",
       "      <td>184.973766</td>\n",
       "      <td>252.193763</td>\n",
       "      <td>266.934848</td>\n",
       "      <td>242.216389</td>\n",
       "      <td>195.108231</td>\n",
       "      <td>231.795720</td>\n",
       "      <td>367.541031</td>\n",
       "      <td>251.152904</td>\n",
       "      <td>268.273273</td>\n",
       "      <td>...</td>\n",
       "      <td>76.370245</td>\n",
       "      <td>266.776351</td>\n",
       "      <td>154.040902</td>\n",
       "      <td>244.222613</td>\n",
       "      <td>301.180186</td>\n",
       "      <td>336.944712</td>\n",
       "      <td>98.674359</td>\n",
       "      <td>216.121532</td>\n",
       "      <td>399.598258</td>\n",
       "      <td>100.925960</td>\n",
       "    </tr>\n",
       "    <tr>\n",
       "      <th>7560</th>\n",
       "      <td>224.965889</td>\n",
       "      <td>185.695782</td>\n",
       "      <td>254.090683</td>\n",
       "      <td>267.175574</td>\n",
       "      <td>242.897877</td>\n",
       "      <td>195.557609</td>\n",
       "      <td>231.588919</td>\n",
       "      <td>365.930373</td>\n",
       "      <td>250.924391</td>\n",
       "      <td>268.263439</td>\n",
       "      <td>...</td>\n",
       "      <td>76.470507</td>\n",
       "      <td>268.161671</td>\n",
       "      <td>153.392527</td>\n",
       "      <td>246.305943</td>\n",
       "      <td>301.522993</td>\n",
       "      <td>337.249741</td>\n",
       "      <td>98.305461</td>\n",
       "      <td>214.568967</td>\n",
       "      <td>396.836102</td>\n",
       "      <td>101.121347</td>\n",
       "    </tr>\n",
       "  </tbody>\n",
       "</table>\n",
       "<p>5 rows × 500 columns</p>\n",
       "</div>"
      ],
      "text/plain": [
       "             0           1           2           3           4           5    \\\n",
       "7556  226.640601  183.013645  248.439395  266.549906  243.256943  193.970623   \n",
       "7557  226.358501  183.671480  249.086176  266.398180  241.567502  193.870304   \n",
       "7558  225.409380  183.751517  251.311869  266.615601  242.283891  194.152841   \n",
       "7559  225.106471  184.973766  252.193763  266.934848  242.216389  195.108231   \n",
       "7560  224.965889  185.695782  254.090683  267.175574  242.897877  195.557609   \n",
       "\n",
       "             6           7           8           9    ...        490  \\\n",
       "7556  232.356573  365.582582  250.332474  270.407568  ...  76.552297   \n",
       "7557  231.197939  367.786650  249.053947  270.084122  ...  75.939959   \n",
       "7558  231.776757  368.377758  250.766427  269.200277  ...  75.895997   \n",
       "7559  231.795720  367.541031  251.152904  268.273273  ...  76.370245   \n",
       "7560  231.588919  365.930373  250.924391  268.263439  ...  76.470507   \n",
       "\n",
       "             491         492         493         494         495        496  \\\n",
       "7556  264.237617  155.411639  244.125466  298.916293  336.863337  96.790248   \n",
       "7557  264.141594  155.158220  244.966009  298.846483  338.975713  97.712656   \n",
       "7558  265.537201  155.273325  245.868703  300.599696  337.955915  97.650009   \n",
       "7559  266.776351  154.040902  244.222613  301.180186  336.944712  98.674359   \n",
       "7560  268.161671  153.392527  246.305943  301.522993  337.249741  98.305461   \n",
       "\n",
       "             497         498         499  \n",
       "7556  217.572828  391.889121  101.934826  \n",
       "7557  217.670540  395.634852  101.375060  \n",
       "7558  216.306908  398.194448  100.915272  \n",
       "7559  216.121532  399.598258  100.925960  \n",
       "7560  214.568967  396.836102  101.121347  \n",
       "\n",
       "[5 rows x 500 columns]"
      ]
     },
     "execution_count": 10,
     "metadata": {},
     "output_type": "execute_result"
    }
   ],
   "source": [
    "# Setup the Monte Carlo Parameters\n",
    "number_simulations = 500\n",
    "number_records = 252*30\n",
    "\n",
    "\n",
    "spy_last = df['SPY']['close'][-1]\n",
    "agg_last = df['AGG']['close'][-1]\n",
    "\n",
    "\n",
    "simulated_price_df = pd.DataFrame()\n",
    "portfolio_cumulative_returns = pd.DataFrame()\n",
    "\n",
    "for s in range(number_simulations):\n",
    "    \n",
    "    simulated_spy_prices = [spy_last]\n",
    "    simulated_agg_prices = [agg_last]\n",
    "\n",
    "    \n",
    "    for i in range(number_records):\n",
    "        \n",
    "  \n",
    "        sim_spy_result = simulated_spy_prices[-1] * (1 + np.random.normal(avg_daily_spy,std_spy))\n",
    "        sim_agg_result = simulated_agg_prices[-1] * (1 + np.random.normal(avg_daily_agg,std_agg))\n",
    "        \n",
    "        \n",
    "        simulated_spy_prices.append(sim_spy_result)\n",
    "        simulated_agg_prices.append(sim_agg_result)\n",
    "    \n",
    "    simulated_price_df['SPY Prices']= pd.Series(simulated_spy_prices)\n",
    "    simulated_price_df['AGG Prices']=pd.Series(simulated_agg_prices)\n",
    "    \n",
    "    \n",
    "    \n",
    "    simulated_daily_returns = simulated_price_df.pct_change()\n",
    "    \n",
    "    \n",
    "    weights = [0.60, 0.40]\n",
    "    \n",
    "    portfolio_daily_returns = simulated_daily_returns.dot(weights)\n",
    "    \n",
    "    portfolio_cumulative_returns[s] = (1+ portfolio_daily_returns.fillna(0)).cumprod()\n",
    "    \n",
    "    \n",
    "    \n",
    "\n",
    "    \n",
    "portfolio_cumulative_returns.tail()"
   ]
  },
  {
   "cell_type": "code",
   "execution_count": 11,
   "metadata": {},
   "outputs": [],
   "source": [
    "# Run the Monte Carlo Simulation\n"
   ]
  },
  {
   "cell_type": "code",
   "execution_count": 12,
   "metadata": {},
   "outputs": [],
   "source": [
    "# Check that the simulation ran successfully\n"
   ]
  },
  {
   "cell_type": "code",
   "execution_count": 13,
   "metadata": {},
   "outputs": [
    {
     "data": {
      "text/plain": [
       "<matplotlib.axes._subplots.AxesSubplot at 0x11b6e9ad0>"
      ]
     },
     "execution_count": 13,
     "metadata": {},
     "output_type": "execute_result"
    },
    {
     "data": {
      "image/png": "[encoded data removed]",
      "text/plain": [
       "<Figure size 432x288 with 1 Axes>"
      ]
     },
     "metadata": {
      "needs_background": "light"
     },
     "output_type": "display_data"
    }
   ],
   "source": [
    "# Visualize the Simulation\n",
    "plot_title = f\"{s+1} Simulations of Cumulative Portfolio Return Trajectories over the next 30 Years\"\n",
    "portfolio_cumulative_returns.plot(legend=None, title=plot_title)"
   ]
  },
  {
   "cell_type": "code",
   "execution_count": 14,
   "metadata": {},
   "outputs": [
    {
     "data": {
      "text/plain": [
       "0      224.965889\n",
       "1      185.695782\n",
       "2      254.090683\n",
       "3      267.175574\n",
       "4      242.897877\n",
       "5      195.557609\n",
       "6      231.588919\n",
       "7      365.930373\n",
       "8      250.924391\n",
       "9      268.263439\n",
       "10     120.334064\n",
       "11     409.182673\n",
       "12     194.579358\n",
       "13     114.046357\n",
       "14     167.001854\n",
       "15     157.537844\n",
       "16     136.315645\n",
       "17     182.834017\n",
       "18     462.690106\n",
       "19     175.285413\n",
       "20      60.662325\n",
       "21     249.482456\n",
       "22     167.546173\n",
       "23     272.206875\n",
       "24     214.706667\n",
       "25     349.311326\n",
       "26      96.351973\n",
       "27     129.471217\n",
       "28     201.170500\n",
       "29     168.226657\n",
       "          ...    \n",
       "470    177.740511\n",
       "471    129.330040\n",
       "472    153.213865\n",
       "473    117.682230\n",
       "474    163.217496\n",
       "475    215.816121\n",
       "476    119.625588\n",
       "477    199.781849\n",
       "478    166.690071\n",
       "479    342.904362\n",
       "480    208.467867\n",
       "481    174.606008\n",
       "482     84.275455\n",
       "483    184.430936\n",
       "484    123.505852\n",
       "485    202.829496\n",
       "486    281.944619\n",
       "487    221.572937\n",
       "488    151.961261\n",
       "489    129.306221\n",
       "490     76.470507\n",
       "491    268.161671\n",
       "492    153.392527\n",
       "493    246.305943\n",
       "494    301.522993\n",
       "495    337.249741\n",
       "496     98.305461\n",
       "497    214.568967\n",
       "498    396.836102\n",
       "499    101.121347\n",
       "Name: 7560, Length: 500, dtype: float64"
      ]
     },
     "execution_count": 14,
     "metadata": {},
     "output_type": "execute_result"
    }
   ],
   "source": [
    "# Select the last row for the cumulative returns (cumulative returns at 20 years)\n",
    "last_day = portfolio_cumulative_returns.iloc[-1,:]\n",
    "\n",
    "last_day"
   ]
  },
  {
   "cell_type": "code",
   "execution_count": 15,
   "metadata": {},
   "outputs": [
    {
     "data": {
      "text/plain": [
       "0      29.893710\n",
       "1      33.087827\n",
       "2      25.848052\n",
       "3      36.330787\n",
       "4      40.662488\n",
       "5      31.400544\n",
       "6      32.385500\n",
       "7      86.396391\n",
       "8      32.307231\n",
       "9      27.876544\n",
       "10     18.951430\n",
       "11     46.144027\n",
       "12     25.723254\n",
       "13     23.059270\n",
       "14     29.587728\n",
       "15     40.553001\n",
       "16     22.126865\n",
       "17     42.812082\n",
       "18     64.557230\n",
       "19     27.520215\n",
       "20     18.485873\n",
       "21     50.764255\n",
       "22     25.208070\n",
       "23     51.247605\n",
       "24     45.145429\n",
       "25     43.372507\n",
       "26     17.303982\n",
       "27     20.573860\n",
       "28     35.137171\n",
       "29     34.282880\n",
       "         ...    \n",
       "470    37.115812\n",
       "471    24.885764\n",
       "472    42.218508\n",
       "473    23.329014\n",
       "474    29.644039\n",
       "475    29.363518\n",
       "476    20.772754\n",
       "477    27.387297\n",
       "478    36.599234\n",
       "479    47.619999\n",
       "480    37.767367\n",
       "481    33.911637\n",
       "482    20.283614\n",
       "483    35.200400\n",
       "484    32.681870\n",
       "485    29.230213\n",
       "486    37.172898\n",
       "487    53.916618\n",
       "488    27.462629\n",
       "489    41.553630\n",
       "490    19.722616\n",
       "491    37.570557\n",
       "492    28.206719\n",
       "493    41.077738\n",
       "494    35.118158\n",
       "495    48.686578\n",
       "496    19.873180\n",
       "497    38.341618\n",
       "498    48.367001\n",
       "499    27.234478\n",
       "Name: 5040, Length: 500, dtype: float64"
      ]
     },
     "execution_count": 15,
     "metadata": {},
     "output_type": "execute_result"
    }
   ],
   "source": [
    "# Select the last row for the cumulative returns (cumulative returns at 20 years)\n",
    "second_last_day = portfolio_cumulative_returns.iloc[5040,:]\n",
    "second_last_day"
   ]
  },
  {
   "cell_type": "code",
   "execution_count": 16,
   "metadata": {},
   "outputs": [
    {
     "data": {
      "text/plain": [
       "<matplotlib.axes._subplots.AxesSubplot at 0x12f599d50>"
      ]
     },
     "execution_count": 16,
     "metadata": {},
     "output_type": "execute_result"
    },
    {
     "data": {
      "image/png": "[encoded data removed]",
      "text/plain": [
       "<Figure size 432x288 with 1 Axes>"
      ]
     },
     "metadata": {
      "needs_background": "light"
     },
     "output_type": "display_data"
    }
   ],
   "source": [
    "# Display the 90% confidence interval for the ending returns\n",
    "last_day.plot(kind='hist', bins=30)"
   ]
  },
  {
   "cell_type": "code",
   "execution_count": 17,
   "metadata": {},
   "outputs": [
    {
     "data": {
      "text/plain": [
       "(160.87, 217.584]     0.342\n",
       "(104.157, 160.87]     0.218\n",
       "(217.584, 274.297]    0.186\n",
       "(274.297, 331.011]    0.088\n",
       "(46.875, 104.157]     0.076\n",
       "(331.011, 387.724]    0.048\n",
       "(387.724, 444.437]    0.020\n",
       "(444.437, 501.151]    0.018\n",
       "(557.864, 614.578]    0.002\n",
       "(501.151, 557.864]    0.002\n",
       "Name: 7560, dtype: float64"
      ]
     },
     "execution_count": 17,
     "metadata": {},
     "output_type": "execute_result"
    }
   ],
   "source": [
    "# Visualize the distribution of the ending returns\n",
    "last_day.value_counts(bins=10)/ len(last_day)"
   ]
  },
  {
   "cell_type": "code",
   "execution_count": 18,
   "metadata": {},
   "outputs": [
    {
     "data": {
      "text/plain": [
       "0.05     94.350911\n",
       "0.95    374.693262\n",
       "Name: 7560, dtype: float64"
      ]
     },
     "execution_count": 18,
     "metadata": {},
     "output_type": "execute_result"
    }
   ],
   "source": [
    "confidence_interval = last_day.quantile(q=[.05,.95])\n",
    "confidence_interval"
   ]
  },
  {
   "cell_type": "code",
   "execution_count": 19,
   "metadata": {},
   "outputs": [
    {
     "data": {
      "text/plain": [
       "<matplotlib.lines.Line2D at 0x12f5a2810>"
      ]
     },
     "execution_count": 19,
     "metadata": {},
     "output_type": "execute_result"
    },
    {
     "data": {
      "image/png": "[encoded data removed]",
      "text/plain": [
       "<Figure size 432x288 with 1 Axes>"
      ]
     },
     "metadata": {
      "needs_background": "light"
     },
     "output_type": "display_data"
    }
   ],
   "source": [
    "plt.figure();\n",
    "last_day.plot(kind='hist', density=True, bins=30)\n",
    "plt.axvline(confidence_interval.iloc[0], color='r')\n",
    "plt.axvline(confidence_interval.iloc[1], color = 'r')"
   ]
  },
  {
   "cell_type": "markdown",
   "metadata": {},
   "source": [
    "---"
   ]
  },
  {
   "cell_type": "markdown",
   "metadata": {},
   "source": [
    "## Retirement Analysis\n",
    "\n",
    "In this section, you will use the monte carlo model to answer the following retirement planning questions:\n",
    "\n",
    "1. What are the expected cumulative returns at `30` years for the `10th`, `50th`, and `90th` percentiles?\n",
    "\n",
    "2. Given an initial investment of `$20,000`, what is the expected return in dollars at the `10th`, `50th`, and `90th` percentiles?\n",
    "\n",
    "3. Given the current projected annual income from the Plaid analysis, will a `4%` withdrawal rate meet or exceed that value at the `10th` percentile? Note: This is basically determining if retirement income is equivalent to current income.\n",
    "\n",
    "4. How would a `50%` increase in the initial investment amount affect the `4%` retirement withdrawal? In other words, what happens if the initial investment had been bigger?"
   ]
  },
  {
   "cell_type": "markdown",
   "metadata": {},
   "source": [
    "### What are the expected cumulative returns at 30 years for the 10th, 50th, and 90th percentiles?"
   ]
  },
  {
   "cell_type": "code",
   "execution_count": 20,
   "metadata": {},
   "outputs": [
    {
     "name": "stdout",
     "output_type": "stream",
     "text": [
      "The Expected cumulative returns for the 10% is 94.35091068255916\n",
      "The Expected cumulative returns for the 90% is 374.69326161033706\n",
      "The Expected cumulative returns for the 50% is 189.84383253943383\n"
     ]
    }
   ],
   "source": [
    "# Compute cumulative returns\n",
    "confidence_interval_10 = last_day.quantile(q=[.05])\n",
    "confidence_interval_10\n",
    "confidence_interval_90 = last_day.quantile(q=[.95])\n",
    "confidence_interval_90\n",
    "confidence_interval_50 = last_day.quantile(q=[.5])\n",
    "confidence_interval_50\n",
    "\n",
    "print(f\"The Expected cumulative returns for the 10% is {confidence_interval_10.iloc[0]}\")\n",
    "print(f\"The Expected cumulative returns for the 90% is {confidence_interval_90.iloc[0]}\")\n",
    "\n",
    "print(f\"The Expected cumulative returns for the 50% is {confidence_interval_50.iloc[0]}\")\n"
   ]
  },
  {
   "cell_type": "code",
   "execution_count": 21,
   "metadata": {},
   "outputs": [
    {
     "name": "stdout",
     "output_type": "stream",
     "text": [
      "94.35091068255916\n",
      "189.84383253943383\n",
      "374.69326161033706\n"
     ]
    }
   ],
   "source": [
    "ci10 = confidence_interval_10.iloc[0]\n",
    "ci50 = confidence_interval_50.iloc[0]\n",
    "ci90 = confidence_interval_90.iloc[0]\n",
    "\n",
    "print(ci10)\n",
    "print(ci50)\n",
    "print(ci90)"
   ]
  },
  {
   "cell_type": "markdown",
   "metadata": {},
   "source": [
    "### Given an initial investment of `$20,000`, what is the expected portfolio return in dollars at the 10th, 50th, and 90th percentiles?"
   ]
  },
  {
   "cell_type": "code",
   "execution_count": 22,
   "metadata": {},
   "outputs": [
    {
     "name": "stdout",
     "output_type": "stream",
     "text": [
      "The Expected cumulative returns for the 10% is $1887018.0\n",
      "The Expected cumulative returns for the 50% is $3796877.0\n",
      "The Expected cumulative returns for the 90% is $7493865.0\n"
     ]
    }
   ],
   "source": [
    "# Set initial investment\n",
    "\n",
    "# Compute expected portfolio return\n",
    "initial_investment = 20000\n",
    "\n",
    "investment_pnl_10 = initial_investment * ci10\n",
    "investment_pnl_90 = initial_investment * ci90\n",
    "investment_pnl_50 = initial_investment * ci50\n",
    "\n",
    "print(f\"The Expected cumulative returns for the 10% is ${np.round(investment_pnl_10)}\")\n",
    "print(f\"The Expected cumulative returns for the 50% is ${np.round(investment_pnl_50)}\")\n",
    "\n",
    "print(f\"The Expected cumulative returns for the 90% is ${np.round(investment_pnl_90)}\")"
   ]
  },
  {
   "cell_type": "markdown",
   "metadata": {},
   "source": [
    "### Given the current projected annual income from the Plaid analysis, will a 4% withdraw rate from the retirement portfolio meet or exceed that value at the 10th percentile?\n",
    "\n",
    "Note: This is effectively saying that 90% of the expected returns will be greater than the return at the 10th percentile, so this can help measure the uncertainty about having enough funds at retirement"
   ]
  },
  {
   "cell_type": "code",
   "execution_count": 23,
   "metadata": {},
   "outputs": [
    {
     "name": "stdout",
     "output_type": "stream",
     "text": [
      "Account owner does not have a surplus and has short term liquidity needs. \n",
      " These needs should be met by a bond ladder or money market fund\n"
     ]
    }
   ],
   "source": [
    "# Set Plaid's projected income\n",
    "\n",
    "# Calculate the 4% withdrawal for the ending return as retirement income\n",
    "\n",
    "# Determine if the retirement income meets or exceeds the current projected income\n",
    "\n",
    "withdrawal_rate = .04* investment_pnl_10\n",
    "\n",
    "monthly_income = 500\n",
    "\n",
    "if withdrawal_rate >= monthly_income:\n",
    "    print('Account owner does not have a surplus and has short term liquidity needs. \\n These needs should be met by a bond ladder or money market fund')\n"
   ]
  },
  {
   "cell_type": "markdown",
   "metadata": {},
   "source": [
    "### How would a 50% increase in the initial investment amount affect the 4% retirement withdrawal?"
   ]
  },
  {
   "cell_type": "code",
   "execution_count": 24,
   "metadata": {},
   "outputs": [
    {
     "name": "stdout",
     "output_type": "stream",
     "text": [
      "Account owner is still needing cash on a monthly basis in excess of his monthly income. \n",
      " The income shortfall will need to come from his portfolio. \n"
     ]
    }
   ],
   "source": [
    "# Re-calculate the retirement income with a 50% increase in the initial investment amount\n",
    "new_investment =initial_investment*1.5\n",
    "new_investment\n",
    "\n",
    "monthly_income=500\n",
    "\n",
    "investment_pnl_10_new = new_investment * ci10\n",
    "\n",
    "investment_pnl_10_new\n",
    "second_withdrawal_rate = investment_pnl_10_new*.04\n",
    "\n",
    "if second_withdrawal_rate >= monthly_income:\n",
    "    print(\"Account owner is still needing cash on a monthly basis in excess of his monthly income. \\n The income shortfall will need to come from his portfolio. \")"
   ]
  },
  {
   "cell_type": "markdown",
   "metadata": {},
   "source": [
    "### Optional Challenge\n",
    "\n",
    "Use the Monte Carlo data and calculate the cumulative returns at the `5%`, `50%`, and `95%` quartiles and plot this data as a line chart to see how the cumulative returns change over the life of the investment.\n",
    "\n",
    "In this section, you need to calculate and plot the cumulative returns for the median and `90%` confidence intervals. This plot shows the expected cumulative returns for any given day between the first day and the last day of investment. "
   ]
  },
  {
   "cell_type": "code",
   "execution_count": 25,
   "metadata": {},
   "outputs": [],
   "source": [
    "# Compute projected returns\n",
    "\n",
    "# Display sample data\n"
   ]
  },
  {
   "cell_type": "code",
   "execution_count": null,
   "metadata": {},
   "outputs": [],
   "source": [
    "# Plot the cumulative returns over time\n"
   ]
  },
  {
   "cell_type": "code",
   "execution_count": null,
   "metadata": {},
   "outputs": [],
   "source": [
    "# Compute portfolio performance over time\n",
    "\n",
    "# Plot projected performance over time\n"
   ]
  }
 ],
 "metadata": {
  "kernelspec": {
   "display_name": "Python 3",
   "language": "python",
   "name": "python3"
  },
  "language_info": {
   "codemirror_mode": {
    "name": "ipython",
    "version": 3
   },
   "file_extension": ".py",
   "mimetype": "text/x-python",
   "name": "python",
   "nbconvert_exporter": "python",
   "pygments_lexer": "ipython3",
   "version": "3.7.6"
  }
 },
 "nbformat": 4,
 "nbformat_minor": 4
}
